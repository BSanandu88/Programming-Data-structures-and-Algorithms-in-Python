{
  "nbformat": 4,
  "nbformat_minor": 0,
  "metadata": {
    "colab": {
      "name": "PDSA WEEK 3 PROBLEMS.ipynb",
      "provenance": [],
      "authorship_tag": "ABX9TyM7ls7GVXYwNBX6vTYKDuVj",
      "include_colab_link": true
    },
    "kernelspec": {
      "name": "python3",
      "display_name": "Python 3"
    },
    "language_info": {
      "name": "python"
    }
  },
  "cells": [
    {
      "cell_type": "markdown",
      "metadata": {
        "id": "view-in-github",
        "colab_type": "text"
      },
      "source": [
        "<a href=\"https://colab.research.google.com/github/BSanandu88/Programming-Data-structures-and-Algorithms-in-Python/blob/main/PDSA_WEEK_3_PROBLEMS.ipynb\" target=\"_parent\"><img src=\"https://colab.research.google.com/assets/colab-badge.svg\" alt=\"Open In Colab\"/></a>"
      ]
    },
    {
      "cell_type": "markdown",
      "metadata": {
        "id": "M3wweo1egheK"
      },
      "source": [
        "**Dish prepare order problem**"
      ]
    },
    {
      "cell_type": "code",
      "metadata": {
        "colab": {
          "base_uri": "https://localhost:8080/"
        },
        "id": "tSxE_k4mgpZA",
        "outputId": "4ec44088-fe2d-460a-f7d5-8b70c118a0ef"
      },
      "source": [
        "# GRPA 1\n",
        "# ist method\n",
        "def DishPrepareOrder1(l):\n",
        "  newl = list(set(l))\n",
        "  newl.sort(key = lambda x : l.count(x),reverse = True)\n",
        "  return newl\n",
        "\n",
        "def DishPrepareOrder(l):\n",
        "  od = dict()\n",
        "  for id in l:\n",
        "    if id not in od.keys():\n",
        "      od[id] = 0\n",
        "    else:\n",
        "      od[id] += 1\n",
        "  od = dict(sorted(od.items()))\n",
        "  print(od)\n",
        "  nl = [item[0] for item in sorted(od.items(),key=lambda x : x[1],reverse=True)]\n",
        "  print(od)\n",
        "  return nl \n",
        "nums = eval(input())\n",
        "print(DishPrepareOrder(nums))"
      ],
      "execution_count": null,
      "outputs": [
        {
          "output_type": "stream",
          "name": "stdout",
          "text": [
            "[1002, 1004, 1005, 1004, 1003, 1009, 1001, 1006, 1002, 1007, 1004, 1002, 1001, 1009, 1006, 1001, 1003, 1009, 1003, 1005, 1006, 1005, 1003, 1008, 1005, 1004, 1003, 1009, 1002, 1008, 1001, 1008, 1003, 1001, 1001, 1007, 1002, 1005, 1009, 1007, 1004, 1005, 1009, 1008, 1009, 1009, 1002, 1008, 1002, 1006, 1005, 1006, 1009, 1007, 1008, 1005, 1002, 1006, 1006, 1001, 1002, 1005, 1003, 1003, 1005, 1001, 1004, 1004, 1001, 1009, 1005, 1008, 1001, 1008, 1006, 1001, 1001, 1009, 1002, 1001, 1003, 1004, 1009, 1008, 1004, 1006, 1003, 1009, 1007, 1005, 1004, 1009, 1001, 1009, 1007, 1004, 1008, 1005, 1004, 1008]\n",
            "{1001: 13, 1002: 9, 1003: 9, 1004: 11, 1005: 12, 1006: 8, 1007: 5, 1008: 10, 1009: 14}\n",
            "{1001: 13, 1002: 9, 1003: 9, 1004: 11, 1005: 12, 1006: 8, 1007: 5, 1008: 10, 1009: 14}\n",
            "[1009, 1001, 1005, 1004, 1008, 1002, 1003, 1006, 1007]\n"
          ]
        }
      ]
    },
    {
      "cell_type": "markdown",
      "metadata": {
        "id": "GK1RmX4HpNtX"
      },
      "source": [
        "**PostFix Expression**"
      ]
    },
    {
      "cell_type": "code",
      "metadata": {
        "id": "44_oYGvZjTet",
        "colab": {
          "base_uri": "https://localhost:8080/"
        },
        "outputId": "84d4de0a-bfe2-47da-d7ab-b31f8419962f"
      },
      "source": [
        "def EvaluateExpression(exp):\n",
        "  exp_list  = exp.strip().split()\n",
        "  ops = [\"*\",\"+\",\"-\",\"/\",\"**\"]\n",
        "  stack = []\n",
        "  for elem in exp_list:\n",
        "    if elem in ops:\n",
        "      op = elem\n",
        "      b,a = str(stack.pop(0)),str(stack.pop(0))\n",
        "      stack.insert(0,eval(a + op + b))\n",
        "    else:\n",
        "      stack.insert(0,float(elem))\n",
        "  return stack[0]\n",
        "\n",
        "\n",
        "print(float(EvaluateExpression(input())))"
      ],
      "execution_count": null,
      "outputs": [
        {
          "output_type": "stream",
          "name": "stdout",
          "text": [
            "100 200 + 2 / 5 * 7 +\n",
            "757.0\n"
          ]
        }
      ]
    },
    {
      "cell_type": "markdown",
      "metadata": {
        "id": "-FjxZEHps6Yh"
      },
      "source": [
        "**Reverse a LinkedList**"
      ]
    },
    {
      "cell_type": "code",
      "metadata": {
        "id": "KXbR-375skx-"
      },
      "source": [
        "def reverse(root):\n",
        "  if root.next == None:\n",
        "    return root\n",
        "  temp = root.next\n",
        "  prev = root\n",
        "  prev.next = None\n",
        "  root = temp\n",
        "  while True:\n",
        "    if root.next == None:\n",
        "      root.next = prev\n",
        "      return root\n",
        "    else:\n",
        "      temp = root.next\n",
        "      root.next = prev\n",
        "      prev = root\n",
        "      root = temp\n",
        "  return root\n",
        "  \n",
        "  \n"
      ],
      "execution_count": null,
      "outputs": []
    },
    {
      "cell_type": "markdown",
      "metadata": {
        "id": "oML9j-AfYuym"
      },
      "source": [
        "**Practice Problems** \n",
        "\n",
        "A doubly linked list is a linked data structure that consists of two header nodes that point to the\n",
        "first and last position in a sequence of linked records. Each node in the sequence contains three\n",
        "fields: One data field and two link fields (references to the previous and to the next node in the\n",
        "sequence of nodes) and. So, it can be traversed in both directions.\n",
        "For the given class **doubly_linked_list**, create two methods:\n",
        "**insert_end(data):** that accepts an integer data and inserts it into the list at the last position.\n",
        "**delete_end():** Delete one element of the list from the last position.\n",
        "**Note-** Use given linked list structure to implementation. Write both operations ( insert_end and\n",
        "delete_end ) with O(1) time."
      ]
    },
    {
      "cell_type": "code",
      "metadata": {
        "id": "Ww18S9dyYx4u"
      },
      "source": [
        ""
      ],
      "execution_count": null,
      "outputs": []
    }
  ]
}