{
  "nbformat": 4,
  "nbformat_minor": 0,
  "metadata": {
    "colab": {
      "name": "PDSA WEEK 3 PROBLEMS.ipynb",
      "provenance": [],
      "authorship_tag": "ABX9TyPnAWaAuwoZW0nVHoEVlU4L",
      "include_colab_link": true
    },
    "kernelspec": {
      "name": "python3",
      "display_name": "Python 3"
    },
    "language_info": {
      "name": "python"
    }
  },
  "cells": [
    {
      "cell_type": "markdown",
      "metadata": {
        "id": "view-in-github",
        "colab_type": "text"
      },
      "source": [
        "<a href=\"https://colab.research.google.com/github/BSanandu88/Programming-Data-structures-and-Algorithms-in-Python/blob/main/PDSA_WEEK_3_PROBLEMS.ipynb\" target=\"_parent\"><img src=\"https://colab.research.google.com/assets/colab-badge.svg\" alt=\"Open In Colab\"/></a>"
      ]
    },
    {
      "cell_type": "markdown",
      "metadata": {
        "id": "M3wweo1egheK"
      },
      "source": [
        "**Dish prepare order problem**"
      ]
    },
    {
      "cell_type": "code",
      "metadata": {
        "colab": {
          "base_uri": "https://localhost:8080/"
        },
        "id": "tSxE_k4mgpZA",
        "outputId": "4ec44088-fe2d-460a-f7d5-8b70c118a0ef"
      },
      "source": [
        "# GRPA 1\n",
        "# ist method\n",
        "def DishPrepareOrder1(l):\n",
        "  newl = list(set(l))\n",
        "  newl.sort(key = lambda x : l.count(x),reverse = True)\n",
        "  return newl\n",
        "\n",
        "def DishPrepareOrder(l):\n",
        "  od = dict()\n",
        "  for id in l:\n",
        "    if id not in od.keys():\n",
        "      od[id] = 0\n",
        "    else:\n",
        "      od[id] += 1\n",
        "  od = dict(sorted(od.items()))\n",
        "  print(od)\n",
        "  nl = [item[0] for item in sorted(od.items(),key=lambda x : x[1],reverse=True)]\n",
        "  print(od)\n",
        "  return nl \n",
        "nums = eval(input())\n",
        "print(DishPrepareOrder(nums))"
      ],
      "execution_count": null,
      "outputs": [
        {
          "output_type": "stream",
          "name": "stdout",
          "text": [
            "[1002, 1004, 1005, 1004, 1003, 1009, 1001, 1006, 1002, 1007, 1004, 1002, 1001, 1009, 1006, 1001, 1003, 1009, 1003, 1005, 1006, 1005, 1003, 1008, 1005, 1004, 1003, 1009, 1002, 1008, 1001, 1008, 1003, 1001, 1001, 1007, 1002, 1005, 1009, 1007, 1004, 1005, 1009, 1008, 1009, 1009, 1002, 1008, 1002, 1006, 1005, 1006, 1009, 1007, 1008, 1005, 1002, 1006, 1006, 1001, 1002, 1005, 1003, 1003, 1005, 1001, 1004, 1004, 1001, 1009, 1005, 1008, 1001, 1008, 1006, 1001, 1001, 1009, 1002, 1001, 1003, 1004, 1009, 1008, 1004, 1006, 1003, 1009, 1007, 1005, 1004, 1009, 1001, 1009, 1007, 1004, 1008, 1005, 1004, 1008]\n",
            "{1001: 13, 1002: 9, 1003: 9, 1004: 11, 1005: 12, 1006: 8, 1007: 5, 1008: 10, 1009: 14}\n",
            "{1001: 13, 1002: 9, 1003: 9, 1004: 11, 1005: 12, 1006: 8, 1007: 5, 1008: 10, 1009: 14}\n",
            "[1009, 1001, 1005, 1004, 1008, 1002, 1003, 1006, 1007]\n"
          ]
        }
      ]
    },
    {
      "cell_type": "markdown",
      "metadata": {
        "id": "GK1RmX4HpNtX"
      },
      "source": [
        "**PostFix Expression**"
      ]
    },
    {
      "cell_type": "code",
      "metadata": {
        "id": "44_oYGvZjTet",
        "colab": {
          "base_uri": "https://localhost:8080/"
        },
        "outputId": "84d4de0a-bfe2-47da-d7ab-b31f8419962f"
      },
      "source": [
        "def EvaluateExpression(exp):\n",
        "  exp_list  = exp.strip().split()\n",
        "  ops = [\"*\",\"+\",\"-\",\"/\",\"**\"]\n",
        "  stack = []\n",
        "  for elem in exp_list:\n",
        "    if elem in ops:\n",
        "      op = elem\n",
        "      b,a = str(stack.pop(0)),str(stack.pop(0))\n",
        "      stack.insert(0,eval(a + op + b))\n",
        "    else:\n",
        "      stack.insert(0,float(elem))\n",
        "  return stack[0]\n",
        "\n",
        "\n",
        "print(float(EvaluateExpression(input())))"
      ],
      "execution_count": null,
      "outputs": [
        {
          "output_type": "stream",
          "name": "stdout",
          "text": [
            "100 200 + 2 / 5 * 7 +\n",
            "757.0\n"
          ]
        }
      ]
    },
    {
      "cell_type": "markdown",
      "metadata": {
        "id": "-FjxZEHps6Yh"
      },
      "source": [
        "**Reverse a LinkedList**"
      ]
    },
    {
      "cell_type": "code",
      "metadata": {
        "id": "KXbR-375skx-"
      },
      "source": [
        "def reverse(root):\n",
        "  if root.next == None:\n",
        "    return root\n",
        "  temp = root.next\n",
        "  prev = root\n",
        "  prev.next = None\n",
        "  root = temp\n",
        "  while True:\n",
        "    if root.next == None:\n",
        "      root.next = prev\n",
        "      return root\n",
        "    else:\n",
        "      temp = root.next\n",
        "      root.next = prev\n",
        "      prev = root\n",
        "      root = temp\n",
        "  return root\n",
        "  \n",
        "  \n"
      ],
      "execution_count": null,
      "outputs": []
    },
    {
      "cell_type": "markdown",
      "metadata": {
        "id": "oML9j-AfYuym"
      },
      "source": [
        "**Practice Problems** \n",
        "\n",
        "A doubly linked list is a linked data structure that consists of two header nodes that point to the\n",
        "first and last position in a sequence of linked records. Each node in the sequence contains three\n",
        "fields: One data field and two link fields (references to the previous and to the next node in the\n",
        "sequence of nodes) and. So, it can be traversed in both directions.\n",
        "For the given class **doubly_linked_list**, create two methods:\n",
        "**insert_end(data):** that accepts an integer data and inserts it into the list at the last position.\n",
        "**delete_end():** Delete one element of the list from the last position.\n",
        "**Note-** Use given linked list structure to implementation. Write both operations ( insert_end and\n",
        "delete_end ) with O(1) time."
      ]
    },
    {
      "cell_type": "code",
      "metadata": {
        "colab": {
          "base_uri": "https://localhost:8080/",
          "height": 146
        },
        "id": "Ww18S9dyYx4u",
        "outputId": "4446485e-2e06-46b8-df8f-3a92d18823da"
      },
      "source": [
        "class Node:\n",
        "  def __init__(self,data):\n",
        "    self.data = data\n",
        "    self.next = None\n",
        "    self.prev = None\n",
        "    \n",
        "class doubly_linked_list:\n",
        "  def __init_(self):\n",
        "    self.head = None\n",
        "    self.last = None\n",
        "\n",
        "  def insert_end(self,data):\n",
        "    newnode = Node(data)\n",
        "    newnode.prev = self.last\n",
        "    if self.head == None:\n",
        "      self.head = newnode\n",
        "      self.last = newnode\n",
        "    else:\n",
        "      self.last.next = newnode\n",
        "      self.last = newnode\n",
        "\n",
        "  def delete_end(self):\n",
        "    if(self.head != None):\n",
        "      if self.head == self.last:\n",
        "        self.head = None\n",
        "        self.last = None\n",
        "      else:\n",
        "        self.last = self.last.prev\n",
        "        self.last.next = None\n",
        "  \n",
        "  def traverse(self):\n",
        "    temp = self.last\n",
        "    while temp != None:\n",
        "      if temp.prev != None:\n",
        "        print(temp.data,end=\",\")\n",
        "      else:\n",
        "        print(temp.data)\n",
        "      temp = temp.next\n",
        "\n",
        "  def traverse_rev(self):\n",
        "    temp = self.last\n",
        "    while temp != None:\n",
        "      if temp.prev != None:\n",
        "        print(temp.data,end=\",\")\n",
        "      else:\n",
        "        print(temp.data)\n",
        "      temp = temp.prev\n",
        "\n",
        "ins = eval(input())\n",
        "delt = int(input())\n",
        "A = doubly_linked_list()\n",
        "for i in ins:\n",
        "  A.insert_end(i)\n",
        "for j in range(delt):\n",
        "  A.delete_end()\n",
        "A.traverse()\n",
        "A.traverse_rev()\n",
        "\n"
      ],
      "execution_count": null,
      "outputs": [
        {
          "name": "stdout",
          "output_type": "stream",
          "text": [
            "\n"
          ]
        },
        {
          "output_type": "error",
          "ename": "SyntaxError",
          "evalue": "ignored",
          "traceback": [
            "\u001b[0;36m  File \u001b[0;32m\"<string>\"\u001b[0;36m, line \u001b[0;32munknown\u001b[0m\n\u001b[0;31m    \u001b[0m\n\u001b[0m    ^\u001b[0m\n\u001b[0;31mSyntaxError\u001b[0m\u001b[0;31m:\u001b[0m unexpected EOF while parsing\n"
          ]
        }
      ]
    },
    {
      "cell_type": "code",
      "metadata": {
        "id": "NB16hN2gfLz4"
      },
      "source": [
        "import sys\n",
        "sys.setrecursionlimit(2**31-1)"
      ],
      "execution_count": 1,
      "outputs": []
    },
    {
      "cell_type": "code",
      "metadata": {
        "id": "G1T5tvCRWLIV"
      },
      "source": [
        "import time\n",
        "\n",
        "class TimerError(Exception):\n",
        "    \"\"\"A custom exception used to report errors in use of Timer class\"\"\"\n",
        "\n",
        "class Timer:\n",
        "    def __init__(self):\n",
        "        self._start_time = None\n",
        "        self._elapsed_time = None\n",
        "\n",
        "    def start(self):\n",
        "        \"\"\"Start a new timer\"\"\"\n",
        "        if self._start_time is not None:\n",
        "            raise TimerError(\"Timer is running. Use .stop()\")\n",
        "        self._start_time = time.perf_counter()\n",
        "\n",
        "    def stop(self):\n",
        "        \"\"\"Save the elapsed time and re-initialize timer\"\"\"\n",
        "        if self._start_time is None:\n",
        "           raise TimerError(\"Timer is not running. Use .start()\")\n",
        "        self._elapsed_time = time.perf_counter() - self._start_time\n",
        "        self._start_time = None\n",
        "\n",
        "    def elapsed(self):\n",
        "        \"\"\"Report elapsed time\"\"\"\n",
        "        if self._elapsed_time is None:\n",
        "           raise TimerError(\"Timer has not been run yet. Use .start()\")\n",
        "        return(self._elapsed_time)\n",
        "\n",
        "    def __str__(self):\n",
        "        \"\"\"print() prints elapsed time\"\"\"\n",
        "        return(str(self._elapsed_time))"
      ],
      "execution_count": 2,
      "outputs": []
    },
    {
      "cell_type": "code",
      "metadata": {
        "id": "P_uh-NJsWTkM"
      },
      "source": [
        "def quicksort(L,l,r):\n",
        "  if (r - l <= 1):\n",
        "    return \n",
        "  (pivot,lower,upper) = (L[l],l+1,l+1)\n",
        "  for i in range(l+1,r):\n",
        "    if L[i] > pivot:\n",
        "      upper = upper + 1\n",
        "    else:\n",
        "      (L[i],L[lower]) = (L[lower],L[i])\n",
        "      (lower,upper) = (lower+1,upper+1)\n",
        "  (L[l],L[lower - 1]) = (L[lower - 1],L[l])\n",
        "  lower = lower - 1\n",
        "  quicksort(L,l,lower)\n",
        "  quicksort(L,lower+1,upper)\n",
        "  return (L)"
      ],
      "execution_count": 5,
      "outputs": []
    },
    {
      "cell_type": "code",
      "metadata": {
        "colab": {
          "base_uri": "https://localhost:8080/"
        },
        "id": "_5PNnUsqYxde",
        "outputId": "78a615b1-37d0-4071-afa6-32eb15d938df"
      },
      "source": [
        "qlist = [1,3,5,0,2,4,17,2,-5,6,4,3]\n",
        "qnew = quicksort(qlist,0,12)\n",
        "print(qnew,qlist)"
      ],
      "execution_count": 6,
      "outputs": [
        {
          "output_type": "stream",
          "name": "stdout",
          "text": [
            "[-5, 0, 1, 2, 2, 3, 3, 4, 4, 5, 6, 17] [-5, 0, 1, 2, 2, 3, 3, 4, 4, 5, 6, 17]\n"
          ]
        }
      ]
    },
    {
      "cell_type": "code",
      "metadata": {
        "colab": {
          "base_uri": "https://localhost:8080/"
        },
        "id": "Nf5ELpg4Y1Qk",
        "outputId": "824cfcee-9cea-4ceb-cd54-3a6a03523375"
      },
      "source": [
        "import random\n",
        "random.seed(2021)\n",
        "inputlists = {}\n",
        "inputlists[\"random\"] = [random.randrange(100000000) for i in range(1000000)]\n",
        "inputlists[\"ascending\"] = [i for i in range(10000)]\n",
        "inputlists[\"descending\"] = [i for i in range (9999,-1,-1)]\n",
        "t = Timer()\n",
        "for k in inputlists.keys():\n",
        "    tmplist = inputlists[k][:]\n",
        "    t.start()\n",
        "    quicksort(tmplist,0,len(tmplist))\n",
        "    t.stop()\n",
        "    print(k,t)"
      ],
      "execution_count": 7,
      "outputs": [
        {
          "output_type": "stream",
          "name": "stdout",
          "text": [
            "random 6.061938617999658\n",
            "ascending 6.753547512000296\n",
            "descending 13.187674335999873\n"
          ]
        }
      ]
    },
    {
      "cell_type": "code",
      "metadata": {
        "id": "q_Fw7zOBnR-B"
      },
      "source": [
        ""
      ],
      "execution_count": null,
      "outputs": []
    }
  ]
}