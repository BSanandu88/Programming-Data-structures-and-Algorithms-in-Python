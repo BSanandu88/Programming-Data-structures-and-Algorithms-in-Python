{
  "nbformat": 4,
  "nbformat_minor": 0,
  "metadata": {
    "colab": {
      "name": "PDSA_WEEK1.ipynb",
      "provenance": [],
      "collapsed_sections": [],
      "authorship_tag": "ABX9TyMQD7q3R7uY/ctleKlBaYbS",
      "include_colab_link": true
    },
    "kernelspec": {
      "name": "python3",
      "display_name": "Python 3"
    },
    "language_info": {
      "name": "python"
    }
  },
  "cells": [
    {
      "cell_type": "markdown",
      "metadata": {
        "id": "view-in-github",
        "colab_type": "text"
      },
      "source": [
        "<a href=\"https://colab.research.google.com/github/BSanandu88/Programming-Data-structures-and-Algorithms-in-Python/blob/main/PDSA_WEEK1.ipynb\" target=\"_parent\"><img src=\"https://colab.research.google.com/assets/colab-badge.svg\" alt=\"Open In Colab\"/></a>"
      ]
    },
    {
      "cell_type": "markdown",
      "metadata": {
        "id": "kpriTnquWb_K"
      },
      "source": [
        "# Twin Primes\n",
        "Write a function **Twin_Primes(n, m)** where n and m are positive integers and n < m , that returns all unique twin primes between m and n (both inclusive). The function returns a list of tuples and each tuple (a,b) represents one unique twin prime where **n <= a < b <= m.**"
      ]
    },
    {
      "cell_type": "code",
      "metadata": {
        "colab": {
          "base_uri": "https://localhost:8080/"
        },
        "id": "S957tX8GWrM9",
        "outputId": "6f9cb34d-480b-4d7d-8f4c-9d595fa50104"
      },
      "source": [
        "def primes(n,m):\n",
        "    l = []\n",
        "    for i in range(n,m+1):\n",
        "        if(i == 1):\n",
        "            continue\n",
        "        flag = True\n",
        "        for j in range(2,i//2+1):\n",
        "            if(i % j == 0):\n",
        "                flag = False\n",
        "                break\n",
        "        if(flag):\n",
        "            l.append(i)\n",
        "    return l\n",
        "\n",
        "def Twin_Primes(n,m):\n",
        "    l = primes(n,m)\n",
        "    newlist = []\n",
        "    for i in range(len(l)):\n",
        "        for j in range(i+1,len(l)):\n",
        "            if(j > i):\n",
        "                diff = l[j] - l[i]\n",
        "                if(diff == 2):\n",
        "                    newlist.append(tuple((l[i],l[j])))\n",
        "    return newlist\n",
        "n=int(input())\n",
        "m=int(input())\n",
        "print(sorted(Twin_Primes(n, m)))"
      ],
      "execution_count": 1,
      "outputs": [
        {
          "output_type": "stream",
          "name": "stdout",
          "text": [
            "1\n",
            "15\n",
            "[(3, 5), (5, 7), (11, 13)]\n"
          ]
        }
      ]
    },
    {
      "cell_type": "markdown",
      "metadata": {
        "id": "cqePa6JQXGuE"
      },
      "source": [
        "# Triangle Class"
      ]
    },
    {
      "cell_type": "code",
      "metadata": {
        "colab": {
          "base_uri": "https://localhost:8080/"
        },
        "id": "HCvyfI_gXNMD",
        "outputId": "7af547e7-224b-43f4-d764-a0e6b6821c2d"
      },
      "source": [
        "class Triangle:\n",
        "  def __init__(self,a,b,c):\n",
        "    self.a = a\n",
        "    self.b = b\n",
        "    self.c = c\n",
        "\n",
        "  # checks if triangle is valid\n",
        "  def is_valid(self):\n",
        "    a,b,c = self.a,self.b,self.c\n",
        "    l = sorted([a,b,c])\n",
        "    if (l[0] + l[1] > l[2] and l[1] + l[2] > l[0] and l[2] + l[0] > l[1]):\n",
        "      return 'Valid'\n",
        "    else:\n",
        "      return 'Invalid'\n",
        "  \n",
        "  # checks the type of triangle\n",
        "  def Side_Classification(self):\n",
        "    a,b,c = self.a,self.b,self.c\n",
        "    l = sorted([a,b,c])\n",
        "    if (self.is_valid() == 'Invalid'):\n",
        "      return 'Invalid'\n",
        "    else:\n",
        "      if(l[0] == l[1] == l[2]):\n",
        "        return 'Equilateral'\n",
        "      elif (l[0] == l[1] or l[1] == l[2] or l[2] == l[0]):\n",
        "        return 'Isosceles'\n",
        "      else:\n",
        "        return 'Scalene'\n",
        "  \n",
        "  # checks the angles of triangle\n",
        "  def Angle_Classification(self):\n",
        "    a,b,c = self.a,self.b,self.c\n",
        "    l = sorted([a,b,c])\n",
        "    if (self.is_valid() == 'Invalid'):\n",
        "      return 'Invalid'\n",
        "    else:\n",
        "      if (l[0] ** 2 + l[1] ** 2 > l[2] ** 2):\n",
        "        return 'Acute'\n",
        "      elif (l[0] ** 2 + l[1] ** 2 < l[2] ** 2):\n",
        "        return 'Obtuse'\n",
        "      else:\n",
        "        return 'Right'\n",
        "\n",
        "  # checks the area of the triangle\n",
        "  def Area(self):\n",
        "    a,b,c = self.a,self.b,self.c\n",
        "    l = sorted([a,b,c])\n",
        "    if (self.is_valid() == 'Invalid'):\n",
        "      return 'Invalid'\n",
        "    else:\n",
        "      s = (l[0] + l[1] + l[2]) / 2\n",
        "      Area = (s * (s - l[0])*(s - l[1])*(s - l[2]))**0.5\n",
        "      return Area\n",
        "\n",
        "a=int(input())\n",
        "b=int(input())\n",
        "c=int(input())\n",
        "T=Triangle(a,b,c)\n",
        "print(T.is_valid())\n",
        "print(T.Side_Classification())\n",
        "print(T.Angle_Classification())\n",
        "print(T.Area())\n",
        "\n"
      ],
      "execution_count": 8,
      "outputs": [
        {
          "output_type": "stream",
          "name": "stdout",
          "text": [
            "2\n",
            "3\n",
            "4\n",
            "Valid\n",
            "Scalene\n",
            "Obtuse\n",
            "2.9047375096555625\n"
          ]
        }
      ]
    },
    {
      "cell_type": "markdown",
      "metadata": {
        "id": "bTd0zhDtfhgx"
      },
      "source": [
        "# Find Minimum Difference"
      ]
    },
    {
      "cell_type": "code",
      "metadata": {
        "colab": {
          "base_uri": "https://localhost:8080/"
        },
        "id": "TJaT59cofqSy",
        "outputId": "7b052cde-5b3a-4b62-bf59-8a35c62a4d6b"
      },
      "source": [
        "def find_Min_Difference(L,P):\n",
        "    L.sort()\n",
        "    ans = 10 ** 20\n",
        "    for i in range(len(L) - P + 1):\n",
        "        ans = int(min(ans,L[i + P - 1] - L[i]))\n",
        "    return ans \n",
        "L=eval(input().strip())\n",
        "P=int(input())\n",
        "print(find_Min_Difference(L,P))"
      ],
      "execution_count": 9,
      "outputs": [
        {
          "output_type": "stream",
          "name": "stdout",
          "text": [
            "[3,4,1,9,56,7,9,12] \n",
            "5\n",
            "6\n"
          ]
        }
      ]
    },
    {
      "cell_type": "markdown",
      "metadata": {
        "id": "3UF_7h0Vf2PK"
      },
      "source": [
        "# Goldbach's Conjecture"
      ]
    },
    {
      "cell_type": "code",
      "metadata": {
        "colab": {
          "base_uri": "https://localhost:8080/"
        },
        "id": "kw-1g0qDgAeV",
        "outputId": "cdb3e552-f97e-4115-dfeb-dc8da96054b8"
      },
      "source": [
        "import math\n",
        "def primeList(n):\n",
        "    l = []\n",
        "    for i in range(2,n+1):\n",
        "        l.append(i)\n",
        "    i = 2\n",
        "    while(i <= int(math.sqrt(n))):\n",
        "        if i in l:\n",
        "            for j in range(i * 2,n+1,i):\n",
        "                if j in l:\n",
        "                    l.remove(j)\n",
        "        i += 1\n",
        "    return l\n",
        "\n",
        "\n",
        "def Goldbach(n):\n",
        "    l = primeList(n)\n",
        "    newlist = []\n",
        "    for i in range(len(l)):\n",
        "        for j in range(i,len(l)):\n",
        "            if(l[i] + l[j] == n ):\n",
        "                newlist.append(tuple((l[i],l[j])))\n",
        "    return newlist\n",
        "n=int(input())\n",
        "print(sorted(Goldbach(n)))"
      ],
      "execution_count": 13,
      "outputs": [
        {
          "output_type": "stream",
          "name": "stdout",
          "text": [
            "26\n",
            "[(3, 23), (7, 19), (13, 13)]\n"
          ]
        }
      ]
    },
    {
      "cell_type": "markdown",
      "metadata": {
        "id": "6V3AG2AZghnh"
      },
      "source": [
        "# Odd One"
      ]
    },
    {
      "cell_type": "code",
      "metadata": {
        "colab": {
          "base_uri": "https://localhost:8080/"
        },
        "id": "djcFsDktgmPU",
        "outputId": "c888ba81-8f6e-457d-e158-0bc307c7e9c9"
      },
      "source": [
        "def odd_one(L):\n",
        "    typeD = {'int' : [],'float':[],'str':[],'bool':[]}\n",
        "    for i in L:\n",
        "        if type(i) == int and len(typeD['int']) <= 1:\n",
        "            typeD['int'] += [i]\n",
        "        elif type(i) == float and len(typeD['float']) <= 1:\n",
        "            typeD['float'] += [i]\n",
        "        elif type(i) == str and len(typeD['str']) <= 1:\n",
        "            typeD['str'] += [i]\n",
        "        elif type(i) == bool and len(typeD['bool']) <= 1:\n",
        "            typeD['bool'] += [i]\n",
        "    for i,j in typeD.items():\n",
        "        if len(j) == 1:\n",
        "            return i\n",
        "        \n",
        "\n",
        "print(odd_one(eval(input().strip())))"
      ],
      "execution_count": 14,
      "outputs": [
        {
          "output_type": "stream",
          "name": "stdout",
          "text": [
            "[2,13,16,4.5]\n",
            "float\n"
          ]
        }
      ]
    },
    {
      "cell_type": "markdown",
      "metadata": {
        "id": "-bMTEErEhShK"
      },
      "source": [
        "# Practice Programs"
      ]
    },
    {
      "cell_type": "code",
      "metadata": {
        "colab": {
          "base_uri": "https://localhost:8080/"
        },
        "id": "p-wDqEt0hXhO",
        "outputId": "44f4588a-3587-41b1-98c7-8781d7f09989"
      },
      "source": [
        "def check(n):\n",
        "  while n != 0:\n",
        "    d = n % 10\n",
        "    if (d % 2 != 1):\n",
        "      return False\n",
        "    n = n // 10\n",
        "  return True\n",
        "\n",
        "n = int(input())\n",
        "print(check(n))"
      ],
      "execution_count": 17,
      "outputs": [
        {
          "output_type": "stream",
          "name": "stdout",
          "text": [
            "123\n",
            "False\n"
          ]
        }
      ]
    },
    {
      "cell_type": "code",
      "metadata": {
        "colab": {
          "base_uri": "https://localhost:8080/"
        },
        "id": "WtItUiywiI9S",
        "outputId": "67e0329f-10e8-45f0-a39a-5bd2ad3a3efe"
      },
      "source": [
        "x = range(5)\n",
        "s = 0\n",
        "for i in x:\n",
        "  s += i\n",
        "  print(i)"
      ],
      "execution_count": 18,
      "outputs": [
        {
          "output_type": "stream",
          "name": "stdout",
          "text": [
            "0\n",
            "1\n",
            "2\n",
            "3\n",
            "4\n"
          ]
        }
      ]
    },
    {
      "cell_type": "code",
      "metadata": {
        "colab": {
          "base_uri": "https://localhost:8080/"
        },
        "id": "Vh1t-KXFjSSr",
        "outputId": "4e201b15-7952-4574-dfbd-a122e87979f5"
      },
      "source": [
        "l = [[10.5],'10.5',10.5,(10.5)]\n",
        "i = 0\n",
        "while i < 4:\n",
        "  try:\n",
        "    item = int(l[i])\n",
        "    print('No Error')\n",
        "  except TypeError:\n",
        "    print('Error 1')\n",
        "  except ValueError:\n",
        "    print('Error 2')\n",
        "  i += 1\n",
        "\n"
      ],
      "execution_count": 19,
      "outputs": [
        {
          "output_type": "stream",
          "name": "stdout",
          "text": [
            "Error 1\n",
            "Error 2\n",
            "No Error\n",
            "No Error\n"
          ]
        }
      ]
    },
    {
      "cell_type": "code",
      "metadata": {
        "id": "pvhWZN0NtYEd"
      },
      "source": [
        "def h(n):\n",
        "  return (n ** 0.5) == int(n ** 0.5)\n",
        "\n",
        "def h(n):\n",
        "  for i in range(1,n+1):\n",
        "    if i * i == n:\n",
        "      return True\n",
        "  return False\n",
        "\n",
        "def h(n):\n",
        "  for i in range(1,n+1):\n",
        "    if i * i > n:\n",
        "      break\n",
        "    elif i * i == n:\n",
        "      return True\n",
        "  return False\n",
        "\n"
      ],
      "execution_count": 20,
      "outputs": []
    },
    {
      "cell_type": "code",
      "metadata": {
        "colab": {
          "base_uri": "https://localhost:8080/"
        },
        "id": "tlZHcVS_uqNa",
        "outputId": "ad56f37d-e84d-4b55-c136-0f98e89e7dd1"
      },
      "source": [
        "def func(s):\n",
        "  p = 0\n",
        "  s.lower()\n",
        "  for i in range(len(s)):\n",
        "    if s[i] not in s[:i]:\n",
        "      p += 1\n",
        "  return p\n",
        "\n",
        "s = \"adbbcefgg\"\n",
        "print(func(s))"
      ],
      "execution_count": 22,
      "outputs": [
        {
          "output_type": "stream",
          "name": "stdout",
          "text": [
            "7\n"
          ]
        }
      ]
    },
    {
      "cell_type": "code",
      "metadata": {
        "colab": {
          "base_uri": "https://localhost:8080/"
        },
        "id": "xNoRYKF5vyPe",
        "outputId": "3526ad50-2440-4c79-f488-4a962824290f"
      },
      "source": [
        "def f(n):\n",
        "  s = 0\n",
        "  for i in range(2,n):\n",
        "    if n % i == 0 and i % 2 == 1:\n",
        "      s += 1\n",
        "  return (s)\n",
        "\n",
        "val1 = f(60)\n",
        "val2 = f(59)\n",
        "print(val1 - val2)\n",
        "\n"
      ],
      "execution_count": 23,
      "outputs": [
        {
          "output_type": "stream",
          "name": "stdout",
          "text": [
            "3\n"
          ]
        }
      ]
    },
    {
      "cell_type": "code",
      "metadata": {
        "colab": {
          "base_uri": "https://localhost:8080/"
        },
        "id": "izZWx146wV8c",
        "outputId": "385d0b97-1d8a-493d-b460-6714480bd9db"
      },
      "source": [
        "x = 1\n",
        "while True:\n",
        "  if x % 5 == 0:\n",
        "    break\n",
        "  print(x,end=' ')\n",
        "  x += 1\n"
      ],
      "execution_count": 25,
      "outputs": [
        {
          "output_type": "stream",
          "name": "stdout",
          "text": [
            "1 2 3 4 "
          ]
        }
      ]
    },
    {
      "cell_type": "code",
      "metadata": {
        "colab": {
          "base_uri": "https://localhost:8080/"
        },
        "id": "fiYfntKjwoRk",
        "outputId": "5acee989-1401-4059-e0eb-e017a0e08e44"
      },
      "source": [
        "class Person:\n",
        "  def __init__(self,name):\n",
        "    self.name = name\n",
        "  def say_hi(self):\n",
        "    print('Hello,', self.name)\n",
        "\n",
        "p = Person('Good Morning')\n",
        "p.say_hi()"
      ],
      "execution_count": 27,
      "outputs": [
        {
          "output_type": "stream",
          "name": "stdout",
          "text": [
            "Hello, Good Morning\n"
          ]
        }
      ]
    },
    {
      "cell_type": "code",
      "metadata": {
        "colab": {
          "base_uri": "https://localhost:8080/"
        },
        "id": "aRWuhCm8xaT8",
        "outputId": "a2feff83-40e4-4ac6-b386-17b5a13ed9a4"
      },
      "source": [
        "a = [1,2,3]\n",
        "try:\n",
        "  print(a[1])\n",
        "  print(a[3])\n",
        "except:\n",
        "  print(\"error\")"
      ],
      "execution_count": 28,
      "outputs": [
        {
          "output_type": "stream",
          "name": "stdout",
          "text": [
            "2\n",
            "error\n"
          ]
        }
      ]
    },
    {
      "cell_type": "code",
      "metadata": {
        "colab": {
          "base_uri": "https://localhost:8080/"
        },
        "id": "2a3jBk48yXry",
        "outputId": "a94757d2-ecc1-411e-81f1-ca31216f3190"
      },
      "source": [
        "def f(l):\n",
        "  try:\n",
        "    if l[0] % l[1] == 0 and l[1] != 0:\n",
        "      if l[0]/(l[1] ** 2 - l[2]) == 0:\n",
        "        return True\n",
        "  except zeroDivisionError:\n",
        "    print(\"zeroDivisionError\")\n",
        "  except:\n",
        "    print(\"Some error occured\")\n",
        "  else:\n",
        "    print(\"no error occured\")\n",
        "  \n",
        "f([44,6,36])\n"
      ],
      "execution_count": 33,
      "outputs": [
        {
          "output_type": "stream",
          "name": "stdout",
          "text": [
            "no error occured\n"
          ]
        }
      ]
    },
    {
      "cell_type": "code",
      "metadata": {
        "id": "lViGUVyCzXTt"
      },
      "source": [
        ""
      ],
      "execution_count": null,
      "outputs": []
    }
  ]
}