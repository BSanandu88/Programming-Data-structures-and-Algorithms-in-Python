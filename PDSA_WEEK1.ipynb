{
  "nbformat": 4,
  "nbformat_minor": 0,
  "metadata": {
    "colab": {
      "name": "PDSA_WEEK1.ipynb",
      "provenance": [],
      "collapsed_sections": [],
      "authorship_tag": "ABX9TyNOLtA67Saz21VXR/zP8rXX",
      "include_colab_link": true
    },
    "kernelspec": {
      "name": "python3",
      "display_name": "Python 3"
    },
    "language_info": {
      "name": "python"
    }
  },
  "cells": [
    {
      "cell_type": "markdown",
      "metadata": {
        "id": "view-in-github",
        "colab_type": "text"
      },
      "source": [
        "<a href=\"https://colab.research.google.com/github/BSanandu88/Programming-Data-structures-and-Algorithms-in-Python/blob/main/PDSA_WEEK1.ipynb\" target=\"_parent\"><img src=\"https://colab.research.google.com/assets/colab-badge.svg\" alt=\"Open In Colab\"/></a>"
      ]
    },
    {
      "cell_type": "markdown",
      "metadata": {
        "id": "kpriTnquWb_K"
      },
      "source": [
        "# Twin Primes\n",
        "Write a function **Twin_Primes(n, m)** where n and m are positive integers and n < m , that returns all unique twin primes between m and n (both inclusive). The function returns a list of tuples and each tuple (a,b) represents one unique twin prime where **n <= a < b <= m.**"
      ]
    },
    {
      "cell_type": "code",
      "metadata": {
        "colab": {
          "base_uri": "https://localhost:8080/"
        },
        "id": "S957tX8GWrM9",
        "outputId": "6f9cb34d-480b-4d7d-8f4c-9d595fa50104"
      },
      "source": [
        "def primes(n,m):\n",
        "    l = []\n",
        "    for i in range(n,m+1):\n",
        "        if(i == 1):\n",
        "            continue\n",
        "        flag = True\n",
        "        for j in range(2,i//2+1):\n",
        "            if(i % j == 0):\n",
        "                flag = False\n",
        "                break\n",
        "        if(flag):\n",
        "            l.append(i)\n",
        "    return l\n",
        "\n",
        "def Twin_Primes(n,m):\n",
        "    l = primes(n,m)\n",
        "    newlist = []\n",
        "    for i in range(len(l)):\n",
        "        for j in range(i+1,len(l)):\n",
        "            if(j > i):\n",
        "                diff = l[j] - l[i]\n",
        "                if(diff == 2):\n",
        "                    newlist.append(tuple((l[i],l[j])))\n",
        "    return newlist\n",
        "n=int(input())\n",
        "m=int(input())\n",
        "print(sorted(Twin_Primes(n, m)))"
      ],
      "execution_count": 1,
      "outputs": [
        {
          "output_type": "stream",
          "name": "stdout",
          "text": [
            "1\n",
            "15\n",
            "[(3, 5), (5, 7), (11, 13)]\n"
          ]
        }
      ]
    },
    {
      "cell_type": "markdown",
      "metadata": {
        "id": "cqePa6JQXGuE"
      },
      "source": [
        "# Triangle Class"
      ]
    },
    {
      "cell_type": "code",
      "metadata": {
        "colab": {
          "base_uri": "https://localhost:8080/"
        },
        "id": "HCvyfI_gXNMD",
        "outputId": "7af547e7-224b-43f4-d764-a0e6b6821c2d"
      },
      "source": [
        "class Triangle:\n",
        "  def __init__(self,a,b,c):\n",
        "    self.a = a\n",
        "    self.b = b\n",
        "    self.c = c\n",
        "\n",
        "  # checks if triangle is valid\n",
        "  def is_valid(self):\n",
        "    a,b,c = self.a,self.b,self.c\n",
        "    l = sorted([a,b,c])\n",
        "    if (l[0] + l[1] > l[2] and l[1] + l[2] > l[0] and l[2] + l[0] > l[1]):\n",
        "      return 'Valid'\n",
        "    else:\n",
        "      return 'Invalid'\n",
        "  \n",
        "  # checks the type of triangle\n",
        "  def Side_Classification(self):\n",
        "    a,b,c = self.a,self.b,self.c\n",
        "    l = sorted([a,b,c])\n",
        "    if (self.is_valid() == 'Invalid'):\n",
        "      return 'Invalid'\n",
        "    else:\n",
        "      if(l[0] == l[1] == l[2]):\n",
        "        return 'Equilateral'\n",
        "      elif (l[0] == l[1] or l[1] == l[2] or l[2] == l[0]):\n",
        "        return 'Isosceles'\n",
        "      else:\n",
        "        return 'Scalene'\n",
        "  \n",
        "  # checks the angles of triangle\n",
        "  def Angle_Classification(self):\n",
        "    a,b,c = self.a,self.b,self.c\n",
        "    l = sorted([a,b,c])\n",
        "    if (self.is_valid() == 'Invalid'):\n",
        "      return 'Invalid'\n",
        "    else:\n",
        "      if (l[0] ** 2 + l[1] ** 2 > l[2] ** 2):\n",
        "        return 'Acute'\n",
        "      elif (l[0] ** 2 + l[1] ** 2 < l[2] ** 2):\n",
        "        return 'Obtuse'\n",
        "      else:\n",
        "        return 'Right'\n",
        "\n",
        "  # checks the area of the triangle\n",
        "  def Area(self):\n",
        "    a,b,c = self.a,self.b,self.c\n",
        "    l = sorted([a,b,c])\n",
        "    if (self.is_valid() == 'Invalid'):\n",
        "      return 'Invalid'\n",
        "    else:\n",
        "      s = (l[0] + l[1] + l[2]) / 2\n",
        "      Area = (s * (s - l[0])*(s - l[1])*(s - l[2]))**0.5\n",
        "      return Area\n",
        "\n",
        "a=int(input())\n",
        "b=int(input())\n",
        "c=int(input())\n",
        "T=Triangle(a,b,c)\n",
        "print(T.is_valid())\n",
        "print(T.Side_Classification())\n",
        "print(T.Angle_Classification())\n",
        "print(T.Area())\n",
        "\n"
      ],
      "execution_count": 8,
      "outputs": [
        {
          "output_type": "stream",
          "name": "stdout",
          "text": [
            "2\n",
            "3\n",
            "4\n",
            "Valid\n",
            "Scalene\n",
            "Obtuse\n",
            "2.9047375096555625\n"
          ]
        }
      ]
    }
  ]
}