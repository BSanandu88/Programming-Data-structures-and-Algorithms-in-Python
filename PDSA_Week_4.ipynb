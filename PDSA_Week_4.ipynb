{
  "nbformat": 4,
  "nbformat_minor": 0,
  "metadata": {
    "colab": {
      "name": "PDSA Week 4.ipynb",
      "provenance": [],
      "authorship_tag": "ABX9TyO5r+m7YLsUEBApm05KQLd8",
      "include_colab_link": true
    },
    "kernelspec": {
      "name": "python3",
      "display_name": "Python 3"
    },
    "language_info": {
      "name": "python"
    }
  },
  "cells": [
    {
      "cell_type": "markdown",
      "metadata": {
        "id": "view-in-github",
        "colab_type": "text"
      },
      "source": [
        "<a href=\"https://colab.research.google.com/github/BSanandu88/Programming-Data-structures-and-Algorithms-in-Python/blob/main/PDSA_Week_4.ipynb\" target=\"_parent\"><img src=\"https://colab.research.google.com/assets/colab-badge.svg\" alt=\"Open In Colab\"/></a>"
      ]
    },
    {
      "cell_type": "markdown",
      "metadata": {
        "id": "n39E3qaY28nF"
      },
      "source": [
        "**Grpa 3**"
      ]
    },
    {
      "cell_type": "code",
      "metadata": {
        "id": "b-w75zLP3ALI"
      },
      "source": [
        "class Queue:\n",
        "  def __init__(self):\n",
        "    self.queue = []\n",
        "  \n",
        "  def isempty(self):\n",
        "    return self.queue == []\n",
        "  \n",
        "  def addq(self,v):\n",
        "    self.queue.append(v)\n",
        "  \n",
        "  def delq(self):\n",
        "    v = None\n",
        "    if not self.isempty():\n",
        "      v = self.queue[0]\n",
        "      self.queue = self.queue[1:]\n",
        "    return v\n",
        "\n",
        "def find_northmost_city(AList):\n",
        "  destinations = []\n",
        "  for dest_list in AList.values():\n",
        "    dest_cities = [city for city in dest_list]\n",
        "    destinations += dest_cities\n",
        "  northmost_city = [city for city in AList.keys() if city not in destinations]\n",
        "  return northmost_city[0]\n",
        "\n",
        "def allPathsFound(paths,AList):\n",
        "  for path in paths:\n",
        "    if AList[path[-1]] != []:\n",
        "      return False\n",
        "  return True\n",
        "\n",
        "def findAllPaths(AList):\n",
        "  curr = find_northmost_city(AList)\n",
        "  path = [curr]\n",
        "  paths = [path]\n",
        "  while not allPathsFound(paths,AList):\n",
        "    paths2 = paths.copy()\n",
        "    paths = []\n",
        "    for path in paths2:\n",
        "      curr = path[-1]\n",
        "      if AList[curr] == []:\n",
        "        paths.append(path)\n",
        "        continue\n",
        "      for node in AList[curr]:\n",
        "        if node in path:\n",
        "          continue\n",
        "        else:\n",
        "          paths.append(path+[node])\n",
        "  return paths\n",
        "\n",
        "\n",
        "def longJourney(AList):\n",
        "    paths = findAllPaths(AList)\n",
        "    max_path_length = max([len(path) for path in paths])\n",
        "    for path in paths:\n",
        "      if len(path) == max_path_length:\n",
        "        return path\n",
        "\n",
        "\n"
      ],
      "execution_count": null,
      "outputs": []
    }
  ]
}