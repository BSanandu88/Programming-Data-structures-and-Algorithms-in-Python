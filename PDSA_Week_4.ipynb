{
  "nbformat": 4,
  "nbformat_minor": 0,
  "metadata": {
    "colab": {
      "name": "PDSA Week 4.ipynb",
      "provenance": [],
      "authorship_tag": "ABX9TyPNYHyRBiLLnMV2xQ/b+09E",
      "include_colab_link": true
    },
    "kernelspec": {
      "name": "python3",
      "display_name": "Python 3"
    },
    "language_info": {
      "name": "python"
    }
  },
  "cells": [
    {
      "cell_type": "markdown",
      "metadata": {
        "id": "view-in-github",
        "colab_type": "text"
      },
      "source": [
        "<a href=\"https://colab.research.google.com/github/BSanandu88/Programming-Data-structures-and-Algorithms-in-Python/blob/main/PDSA_Week_4.ipynb\" target=\"_parent\"><img src=\"https://colab.research.google.com/assets/colab-badge.svg\" alt=\"Open In Colab\"/></a>"
      ]
    },
    {
      "cell_type": "markdown",
      "metadata": {
        "id": "n39E3qaY28nF"
      },
      "source": [
        "**Grpa 3**"
      ]
    },
    {
      "cell_type": "code",
      "metadata": {
        "id": "b-w75zLP3ALI"
      },
      "source": [
        "# class Queue:\n",
        "#   def __init__(self):\n",
        "#     self.queue = []\n",
        "  \n",
        "#   def isempty(self):\n",
        "#     return self.queue == []\n",
        "  \n",
        "#   def addq(self,v):\n",
        "#     self.queue.append(v)\n",
        "  \n",
        "#   def delq(self):\n",
        "#     v = None\n",
        "#     if not self.isempty():\n",
        "#       v = self.queue[0]\n",
        "#       self.queue = self.queue[1:]\n",
        "#     return v\n",
        "\n",
        "def find_northmost_city(AList):\n",
        "  destinations = []\n",
        "  for dest_list in AList.values():\n",
        "    dest_cities = [city for city in dest_list]\n",
        "    destinations += dest_cities\n",
        "  northmost_city = [city for city in AList.keys() if city not in destinations]\n",
        "  return northmost_city[0]\n",
        "\n",
        "def allPathsFound(paths,AList):\n",
        "  for path in paths:\n",
        "    if AList[path[-1]] != []:\n",
        "      return False\n",
        "  return True\n",
        "\n",
        "def findAllPaths(AList):\n",
        "  curr = find_northmost_city(AList)\n",
        "  path = [curr]\n",
        "  paths = [path]\n",
        "  while not allPathsFound(paths,AList):\n",
        "    paths2 = paths.copy()\n",
        "    paths = []\n",
        "    for path in paths2:\n",
        "      curr = path[-1]\n",
        "      if AList[curr] == []:\n",
        "        paths.append(path)\n",
        "        continue\n",
        "      for node in AList[curr]:\n",
        "        if node in path:\n",
        "          continue\n",
        "        else:\n",
        "          paths.append(path+[node])\n",
        "  return paths\n",
        "\n",
        "\n",
        "def longJourney(AList):\n",
        "    paths = findAllPaths(AList)\n",
        "    max_path_length = max([len(path) for path in paths])\n",
        "    for path in paths:\n",
        "      if len(path) == max_path_length:\n",
        "        return path\n",
        "\n",
        "\n"
      ],
      "execution_count": null,
      "outputs": []
    },
    {
      "cell_type": "code",
      "metadata": {
        "colab": {
          "base_uri": "https://localhost:8080/"
        },
        "id": "iFgsrNiPbE2A",
        "outputId": "1d5480f2-ca98-4553-9b21-b2b333fe57f2"
      },
      "source": [
        "edges = [(0,1),(0,4),(1,2),(2,0),\n",
        "(3,4),(3,6),(4,0),(4,3),\n",
        "(4,7),(5,3),(5,7),\n",
        "(6,5),(7,4),(7,8),\n",
        "(8,5),(8,9),(9,8)]\n",
        "\n",
        "import numpy as np\n",
        "A = np.zeros(shape=(10,10))\n",
        "\n",
        "for (i,j) in edges:\n",
        "  A[i,j] = 1\n",
        "print(A)"
      ],
      "execution_count": 1,
      "outputs": [
        {
          "output_type": "stream",
          "name": "stdout",
          "text": [
            "[[0. 1. 0. 0. 1. 0. 0. 0. 0. 0.]\n",
            " [0. 0. 1. 0. 0. 0. 0. 0. 0. 0.]\n",
            " [1. 0. 0. 0. 0. 0. 0. 0. 0. 0.]\n",
            " [0. 0. 0. 0. 1. 0. 1. 0. 0. 0.]\n",
            " [1. 0. 0. 1. 0. 0. 0. 1. 0. 0.]\n",
            " [0. 0. 0. 1. 0. 0. 0. 1. 0. 0.]\n",
            " [0. 0. 0. 0. 0. 1. 0. 0. 0. 0.]\n",
            " [0. 0. 0. 0. 1. 0. 0. 0. 1. 0.]\n",
            " [0. 0. 0. 0. 0. 1. 0. 0. 0. 1.]\n",
            " [0. 0. 0. 0. 0. 0. 0. 0. 1. 0.]]\n"
          ]
        }
      ]
    },
    {
      "cell_type": "code",
      "metadata": {
        "colab": {
          "base_uri": "https://localhost:8080/"
        },
        "id": "xgswD_aCbYzl",
        "outputId": "9f8414d1-43e5-4e0c-97fb-b4d4cef82c12"
      },
      "source": [
        "def neigbours(A,i):\n",
        "  nbrs = []\n",
        "  (rows,cols) = A.shape\n",
        "  for j in range(cols):\n",
        "    if(A[i,j] == 1):\n",
        "      nbrs.append(j)\n",
        "  return nbrs\n",
        "\n",
        "print(neigbours(A,7))"
      ],
      "execution_count": 2,
      "outputs": [
        {
          "output_type": "stream",
          "name": "stdout",
          "text": [
            "[4, 8]\n"
          ]
        }
      ]
    },
    {
      "cell_type": "code",
      "metadata": {
        "colab": {
          "base_uri": "https://localhost:8080/"
        },
        "id": "E_n1SBzrb4-D",
        "outputId": "894f5967-c646-41d6-bb69-152289b1bb90"
      },
      "source": [
        "# Adjacency List\n",
        "Alist = {}\n",
        "for i in range(10):\n",
        "  Alist[i] = []\n",
        "for (i,j) in edges:\n",
        "  Alist[i].append(j)\n",
        "\n",
        "print(Alist)"
      ],
      "execution_count": 3,
      "outputs": [
        {
          "output_type": "stream",
          "name": "stdout",
          "text": [
            "{0: [1, 4], 1: [2], 2: [0], 3: [4, 6], 4: [0, 3, 7], 5: [3, 7], 6: [5], 7: [4, 8], 8: [5, 9], 9: [8]}\n"
          ]
        }
      ]
    },
    {
      "cell_type": "code",
      "metadata": {
        "colab": {
          "base_uri": "https://localhost:8080/"
        },
        "id": "uPP151uYcbLO",
        "outputId": "973c93c8-b68f-4585-e703-8334021e871b"
      },
      "source": [
        "# Breadth First Search\n",
        "class Queue:\n",
        "  def __init__(self):\n",
        "    self.queue = []\n",
        "  def addq(self,v):\n",
        "    self.queue.append(v)\n",
        "  def delq(self):\n",
        "    v = None\n",
        "    if not self.isempty():\n",
        "      v = self.queue[0]\n",
        "      self.queue = self.queue[1:]\n",
        "    return (v)\n",
        "  def isempty(self):\n",
        "    return (self.queue == [])\n",
        "  def __str__(self):\n",
        "    return (str(self.queue))\n",
        "\n",
        "\n",
        "q = Queue()\n",
        "for i in range(3):\n",
        "  q.addq(i)\n",
        "  print(q)\n",
        "print(q.isempty())\n",
        "\n",
        "for j in range(3):\n",
        "  print(q.delq(),q)\n",
        "print(q.isempty())\n",
        "\n",
        "def BFS(Amat,v):\n",
        "  (rows,cols) = Amat.shape\n",
        "  visited = {}\n",
        "  for i in range(rows):\n",
        "    visited[i] = False\n",
        "  q1 = Queue()\n",
        "  visited[v] = True\n",
        "  q1.addq(v)\n",
        "\n",
        "  while(not q1.isempty()):\n",
        "    j = q1.delq()\n",
        "    for k in neigbours(Amat,j):\n",
        "      if(not visited[k]):\n",
        "        visited[k] = True\n",
        "        q1.addq(k)\n",
        "  return visited\n",
        "\n",
        "print(BFS(A,0))"
      ],
      "execution_count": 10,
      "outputs": [
        {
          "output_type": "stream",
          "name": "stdout",
          "text": [
            "[0]\n",
            "[0, 1]\n",
            "[0, 1, 2]\n",
            "False\n",
            "0 [1, 2]\n",
            "1 [2]\n",
            "2 []\n",
            "True\n",
            "{0: True, 1: True, 2: True, 3: True, 4: True, 5: True, 6: True, 7: True, 8: True, 9: True}\n"
          ]
        }
      ]
    },
    {
      "cell_type": "code",
      "metadata": {
        "id": "OTEcQTxLeCmx"
      },
      "source": [
        ""
      ],
      "execution_count": null,
      "outputs": []
    }
  ]
}