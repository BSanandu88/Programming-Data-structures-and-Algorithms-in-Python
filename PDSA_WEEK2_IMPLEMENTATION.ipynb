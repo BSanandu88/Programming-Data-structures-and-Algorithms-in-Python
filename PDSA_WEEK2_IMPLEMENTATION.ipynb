{
  "nbformat": 4,
  "nbformat_minor": 0,
  "metadata": {
    "colab": {
      "name": "PDSA_WEEK2_IMPLEMENTATION.ipynb",
      "provenance": [],
      "authorship_tag": "ABX9TyNGQ9oK7BJVpiUdwOoaRxTW",
      "include_colab_link": true
    },
    "kernelspec": {
      "name": "python3",
      "display_name": "Python 3"
    },
    "language_info": {
      "name": "python"
    }
  },
  "cells": [
    {
      "cell_type": "markdown",
      "metadata": {
        "id": "view-in-github",
        "colab_type": "text"
      },
      "source": [
        "<a href=\"https://colab.research.google.com/github/BSanandu88/Programming-Data-structures-and-Algorithms-in-Python/blob/main/PDSA_WEEK2_IMPLEMENTATION.ipynb\" target=\"_parent\"><img src=\"https://colab.research.google.com/assets/colab-badge.svg\" alt=\"Open In Colab\"/></a>"
      ]
    },
    {
      "cell_type": "markdown",
      "metadata": {
        "id": "WsohpSCxLsnt"
      },
      "source": [
        " # Searching and Sorting"
      ]
    },
    {
      "cell_type": "code",
      "metadata": {
        "id": "Mfb8huCCLwqn"
      },
      "source": [
        "# Naive search\n",
        "def naiveSearch(v,l):\n",
        "  for x in l:\n",
        "    if v == x:\n",
        "      return True\n",
        "  return False"
      ],
      "execution_count": 1,
      "outputs": []
    },
    {
      "cell_type": "markdown",
      "metadata": {
        "id": "AaBy-Jw1MuAs"
      },
      "source": [
        "## Binary Search"
      ]
    },
    {
      "cell_type": "code",
      "metadata": {
        "id": "SfgObSKrMwQ1"
      },
      "source": [
        "def binarySearch(v,l):\n",
        "  if l == []:\n",
        "    return False\n",
        "  m = len(l) // 2\n",
        "  if v == l[m]:\n",
        "    return True\n",
        "  if v < l[m]:\n",
        "    return binarySearch(v,l[:m])\n",
        "  elif v > l[m]:\n",
        "    return binarySearch(v,l[m+1:])"
      ],
      "execution_count": 2,
      "outputs": []
    },
    {
      "cell_type": "code",
      "metadata": {
        "colab": {
          "base_uri": "https://localhost:8080/"
        },
        "id": "9yt48EzkNrhG",
        "outputId": "28a51130-8252-46ea-81d3-ba1160475820"
      },
      "source": [
        "import random\n",
        "l = list(range(0,52,2))\n",
        "for i in range(53):\n",
        "  print((i,naiveSearch(i,l)),end=\" \")\n",
        "print()\n",
        "for i in range(53):\n",
        "  print((i,binarySearch(i,l)),end=\" \")\n",
        "print()"
      ],
      "execution_count": 4,
      "outputs": [
        {
          "output_type": "stream",
          "name": "stdout",
          "text": [
            "(0, True) (1, False) (2, True) (3, False) (4, True) (5, False) (6, True) (7, False) (8, True) (9, False) (10, True) (11, False) (12, True) (13, False) (14, True) (15, False) (16, True) (17, False) (18, True) (19, False) (20, True) (21, False) (22, True) (23, False) (24, True) (25, False) (26, True) (27, False) (28, True) (29, False) (30, True) (31, False) (32, True) (33, False) (34, True) (35, False) (36, True) (37, False) (38, True) (39, False) (40, True) (41, False) (42, True) (43, False) (44, True) (45, False) (46, True) (47, False) (48, True) (49, False) (50, True) (51, False) (52, False) \n",
            "(0, True) (1, False) (2, True) (3, False) (4, True) (5, False) (6, True) (7, False) (8, True) (9, False) (10, True) (11, False) (12, True) (13, False) (14, True) (15, False) (16, True) (17, False) (18, True) (19, False) (20, True) (21, False) (22, True) (23, False) (24, True) (25, False) (26, True) (27, False) (28, True) (29, False) (30, True) (31, False) (32, True) (33, False) (34, True) (35, False) (36, True) (37, False) (38, True) (39, False) (40, True) (41, False) (42, True) (43, False) (44, True) (45, False) (46, True) (47, False) (48, True) (49, False) (50, True) (51, False) (52, False) \n"
          ]
        }
      ]
    },
    {
      "cell_type": "code",
      "metadata": {
        "id": "mr2vx2IgPLNE"
      },
      "source": [
        ""
      ],
      "execution_count": null,
      "outputs": []
    }
  ]
}